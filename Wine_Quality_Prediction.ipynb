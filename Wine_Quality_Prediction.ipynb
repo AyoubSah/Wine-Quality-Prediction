{
  "nbformat": 4,
  "nbformat_minor": 0,
  "metadata": {
    "colab": {
      "provenance": [],
      "authorship_tag": "ABX9TyOc+OWeWq8F2gH8XAFdC0qn",
      "include_colab_link": true
    },
    "kernelspec": {
      "name": "python3",
      "display_name": "Python 3"
    },
    "language_info": {
      "name": "python"
    }
  },
  "cells": [
    {
      "cell_type": "markdown",
      "metadata": {
        "id": "view-in-github",
        "colab_type": "text"
      },
      "source": [
        "<a href=\"https://colab.research.google.com/github/AyoubSah/Wine-Quality-Prediction/blob/main/Wine_Quality_Prediction.ipynb\" target=\"_parent\"><img src=\"https://colab.research.google.com/assets/colab-badge.svg\" alt=\"Open In Colab\"/></a>"
      ]
    },
    {
      "cell_type": "code",
      "execution_count": null,
      "metadata": {
        "id": "DCbXkw8ESMsD"
      },
      "outputs": [],
      "source": [
        "import numpy as np\n",
        "import pandas as pd\n",
        "import seaborn as sns\n",
        "import matplotlib.pyplot as plt\n",
        "import statsmodels.api as sm"
      ]
    },
    {
      "cell_type": "code",
      "source": [
        "import numpy as np\n",
        "\n",
        "# Create two sample arrays\n",
        "array1 = np.array([1, 2, 3, 4, 5])\n",
        "array2 = np.array([2, 4, 6])\n",
        "\n",
        "# Perform a left join-like operation\n",
        "result = np.zeros_like(array1)\n",
        "mask = np.in1d(array1, array2, assume_unique=True)\n",
        "result[mask] = array1[mask]\n",
        "\n",
        "print(result)\n"
      ],
      "metadata": {
        "colab": {
          "base_uri": "https://localhost:8080/"
        },
        "id": "IEZNweuZPr1o",
        "outputId": "8cf93137-8dc9-4883-fcf2-4152b5bc8ba1"
      },
      "execution_count": null,
      "outputs": [
        {
          "output_type": "stream",
          "name": "stdout",
          "text": [
            "[0 2 0 4 0]\n"
          ]
        }
      ]
    },
    {
      "cell_type": "code",
      "source": [],
      "metadata": {
        "id": "VvMat9ka_NjR"
      },
      "execution_count": null,
      "outputs": []
    },
    {
      "cell_type": "code",
      "source": [
        "data = pd.read_csv('winequality-red.csv')\n",
        "data.head()"
      ],
      "metadata": {
        "colab": {
          "base_uri": "https://localhost:8080/",
          "height": 268
        },
        "id": "Lm5CD3SjSUy1",
        "outputId": "7e4704cb-ab1f-4f9e-af66-81ff2d97f69b"
      },
      "execution_count": null,
      "outputs": [
        {
          "output_type": "execute_result",
          "data": {
            "text/plain": [
              "  fixed acidity;\"volatile acidity\";\"citric acid\";\"residual sugar\";\"chlorides\";\"free sulfur dioxide\";\"total sulfur dioxide\";\"density\";\"pH\";\"sulphates\";\"alcohol\";\"quality\"\n",
              "0   7.4;0.7;0;1.9;0.076;11;34;0.9978;3.51;0.56;9.4;5                                                                                                                     \n",
              "1   7.8;0.88;0;2.6;0.098;25;67;0.9968;3.2;0.68;9.8;5                                                                                                                     \n",
              "2  7.8;0.76;0.04;2.3;0.092;15;54;0.997;3.26;0.65;...                                                                                                                     \n",
              "3  11.2;0.28;0.56;1.9;0.075;17;60;0.998;3.16;0.58...                                                                                                                     \n",
              "4   7.4;0.7;0;1.9;0.076;11;34;0.9978;3.51;0.56;9.4;5                                                                                                                     "
            ],
            "text/html": [
              "\n",
              "  <div id=\"df-b904357b-241e-4a12-a972-7d42e389d8ce\">\n",
              "    <div class=\"colab-df-container\">\n",
              "      <div>\n",
              "<style scoped>\n",
              "    .dataframe tbody tr th:only-of-type {\n",
              "        vertical-align: middle;\n",
              "    }\n",
              "\n",
              "    .dataframe tbody tr th {\n",
              "        vertical-align: top;\n",
              "    }\n",
              "\n",
              "    .dataframe thead th {\n",
              "        text-align: right;\n",
              "    }\n",
              "</style>\n",
              "<table border=\"1\" class=\"dataframe\">\n",
              "  <thead>\n",
              "    <tr style=\"text-align: right;\">\n",
              "      <th></th>\n",
              "      <th>fixed acidity;\"volatile acidity\";\"citric acid\";\"residual sugar\";\"chlorides\";\"free sulfur dioxide\";\"total sulfur dioxide\";\"density\";\"pH\";\"sulphates\";\"alcohol\";\"quality\"</th>\n",
              "    </tr>\n",
              "  </thead>\n",
              "  <tbody>\n",
              "    <tr>\n",
              "      <th>0</th>\n",
              "      <td>7.4;0.7;0;1.9;0.076;11;34;0.9978;3.51;0.56;9.4;5</td>\n",
              "    </tr>\n",
              "    <tr>\n",
              "      <th>1</th>\n",
              "      <td>7.8;0.88;0;2.6;0.098;25;67;0.9968;3.2;0.68;9.8;5</td>\n",
              "    </tr>\n",
              "    <tr>\n",
              "      <th>2</th>\n",
              "      <td>7.8;0.76;0.04;2.3;0.092;15;54;0.997;3.26;0.65;...</td>\n",
              "    </tr>\n",
              "    <tr>\n",
              "      <th>3</th>\n",
              "      <td>11.2;0.28;0.56;1.9;0.075;17;60;0.998;3.16;0.58...</td>\n",
              "    </tr>\n",
              "    <tr>\n",
              "      <th>4</th>\n",
              "      <td>7.4;0.7;0;1.9;0.076;11;34;0.9978;3.51;0.56;9.4;5</td>\n",
              "    </tr>\n",
              "  </tbody>\n",
              "</table>\n",
              "</div>\n",
              "      <button class=\"colab-df-convert\" onclick=\"convertToInteractive('df-b904357b-241e-4a12-a972-7d42e389d8ce')\"\n",
              "              title=\"Convert this dataframe to an interactive table.\"\n",
              "              style=\"display:none;\">\n",
              "        \n",
              "  <svg xmlns=\"http://www.w3.org/2000/svg\" height=\"24px\"viewBox=\"0 0 24 24\"\n",
              "       width=\"24px\">\n",
              "    <path d=\"M0 0h24v24H0V0z\" fill=\"none\"/>\n",
              "    <path d=\"M18.56 5.44l.94 2.06.94-2.06 2.06-.94-2.06-.94-.94-2.06-.94 2.06-2.06.94zm-11 1L8.5 8.5l.94-2.06 2.06-.94-2.06-.94L8.5 2.5l-.94 2.06-2.06.94zm10 10l.94 2.06.94-2.06 2.06-.94-2.06-.94-.94-2.06-.94 2.06-2.06.94z\"/><path d=\"M17.41 7.96l-1.37-1.37c-.4-.4-.92-.59-1.43-.59-.52 0-1.04.2-1.43.59L10.3 9.45l-7.72 7.72c-.78.78-.78 2.05 0 2.83L4 21.41c.39.39.9.59 1.41.59.51 0 1.02-.2 1.41-.59l7.78-7.78 2.81-2.81c.8-.78.8-2.07 0-2.86zM5.41 20L4 18.59l7.72-7.72 1.47 1.35L5.41 20z\"/>\n",
              "  </svg>\n",
              "      </button>\n",
              "      \n",
              "  <style>\n",
              "    .colab-df-container {\n",
              "      display:flex;\n",
              "      flex-wrap:wrap;\n",
              "      gap: 12px;\n",
              "    }\n",
              "\n",
              "    .colab-df-convert {\n",
              "      background-color: #E8F0FE;\n",
              "      border: none;\n",
              "      border-radius: 50%;\n",
              "      cursor: pointer;\n",
              "      display: none;\n",
              "      fill: #1967D2;\n",
              "      height: 32px;\n",
              "      padding: 0 0 0 0;\n",
              "      width: 32px;\n",
              "    }\n",
              "\n",
              "    .colab-df-convert:hover {\n",
              "      background-color: #E2EBFA;\n",
              "      box-shadow: 0px 1px 2px rgba(60, 64, 67, 0.3), 0px 1px 3px 1px rgba(60, 64, 67, 0.15);\n",
              "      fill: #174EA6;\n",
              "    }\n",
              "\n",
              "    [theme=dark] .colab-df-convert {\n",
              "      background-color: #3B4455;\n",
              "      fill: #D2E3FC;\n",
              "    }\n",
              "\n",
              "    [theme=dark] .colab-df-convert:hover {\n",
              "      background-color: #434B5C;\n",
              "      box-shadow: 0px 1px 3px 1px rgba(0, 0, 0, 0.15);\n",
              "      filter: drop-shadow(0px 1px 2px rgba(0, 0, 0, 0.3));\n",
              "      fill: #FFFFFF;\n",
              "    }\n",
              "  </style>\n",
              "\n",
              "      <script>\n",
              "        const buttonEl =\n",
              "          document.querySelector('#df-b904357b-241e-4a12-a972-7d42e389d8ce button.colab-df-convert');\n",
              "        buttonEl.style.display =\n",
              "          google.colab.kernel.accessAllowed ? 'block' : 'none';\n",
              "\n",
              "        async function convertToInteractive(key) {\n",
              "          const element = document.querySelector('#df-b904357b-241e-4a12-a972-7d42e389d8ce');\n",
              "          const dataTable =\n",
              "            await google.colab.kernel.invokeFunction('convertToInteractive',\n",
              "                                                     [key], {});\n",
              "          if (!dataTable) return;\n",
              "\n",
              "          const docLinkHtml = 'Like what you see? Visit the ' +\n",
              "            '<a target=\"_blank\" href=https://colab.research.google.com/notebooks/data_table.ipynb>data table notebook</a>'\n",
              "            + ' to learn more about interactive tables.';\n",
              "          element.innerHTML = '';\n",
              "          dataTable['output_type'] = 'display_data';\n",
              "          await google.colab.output.renderOutput(dataTable, element);\n",
              "          const docLink = document.createElement('div');\n",
              "          docLink.innerHTML = docLinkHtml;\n",
              "          element.appendChild(docLink);\n",
              "        }\n",
              "      </script>\n",
              "    </div>\n",
              "  </div>\n",
              "  "
            ]
          },
          "metadata": {},
          "execution_count": 13
        }
      ]
    },
    {
      "cell_type": "code",
      "source": [
        "import csv\n",
        "import os\n",
        "\n",
        "filename = 'winequality-red.csv'\n",
        "\n",
        "with open(filename, 'r') as infile, open('winequaity.csv', 'w', newline='') as outfile:\n",
        "    reader = csv.reader(infile, delimiter=';')\n",
        "    writer = csv.writer(outfile, delimiter=',')\n",
        "    for row in reader:\n",
        "        writer.writerow(row)\n",
        "\n",
        "# Replace the original file with the new file\n",
        "os.replace('winequality.csv', filename)"
      ],
      "metadata": {
        "id": "MZWXbfvmTHFT",
        "colab": {
          "base_uri": "https://localhost:8080/",
          "height": 200
        },
        "outputId": "9e3e2327-fb70-4cd1-dac9-4f83d5e647d6"
      },
      "execution_count": null,
      "outputs": [
        {
          "output_type": "error",
          "ename": "FileNotFoundError",
          "evalue": "ignored",
          "traceback": [
            "\u001b[0;31m---------------------------------------------------------------------------\u001b[0m",
            "\u001b[0;31mFileNotFoundError\u001b[0m                         Traceback (most recent call last)",
            "\u001b[0;32m<ipython-input-14-534273a7e6f1>\u001b[0m in \u001b[0;36m<module>\u001b[0;34m\u001b[0m\n\u001b[1;32m     11\u001b[0m \u001b[0;34m\u001b[0m\u001b[0m\n\u001b[1;32m     12\u001b[0m \u001b[0;31m# Replace the original file with the new file\u001b[0m\u001b[0;34m\u001b[0m\u001b[0;34m\u001b[0m\u001b[0m\n\u001b[0;32m---> 13\u001b[0;31m \u001b[0mos\u001b[0m\u001b[0;34m.\u001b[0m\u001b[0mreplace\u001b[0m\u001b[0;34m(\u001b[0m\u001b[0;34m'winequality.csv'\u001b[0m\u001b[0;34m,\u001b[0m \u001b[0mfilename\u001b[0m\u001b[0;34m)\u001b[0m\u001b[0;34m\u001b[0m\u001b[0;34m\u001b[0m\u001b[0m\n\u001b[0m",
            "\u001b[0;31mFileNotFoundError\u001b[0m: [Errno 2] No such file or directory: 'winequality.csv' -> 'winequality-red.csv'"
          ]
        }
      ]
    },
    {
      "cell_type": "code",
      "source": [
        "data = pd.read_csv('winequaity.csv')\n",
        "data.head(10)\n",
        "df = data.copy()"
      ],
      "metadata": {
        "id": "86ggn-S1T3Gk"
      },
      "execution_count": null,
      "outputs": []
    },
    {
      "cell_type": "code",
      "source": [
        "data.dtypes.value_counts()"
      ],
      "metadata": {
        "colab": {
          "base_uri": "https://localhost:8080/"
        },
        "id": "R8KeR3FuUFFb",
        "outputId": "fe3b703c-6ee1-4219-8474-32f1c21d78c8"
      },
      "execution_count": null,
      "outputs": [
        {
          "output_type": "execute_result",
          "data": {
            "text/plain": [
              "float64    11\n",
              "int64       1\n",
              "dtype: int64"
            ]
          },
          "metadata": {},
          "execution_count": 17
        }
      ]
    },
    {
      "cell_type": "code",
      "source": [
        "for col in data.columns:\n",
        "  print(f\"{col}: --- {data[col].isna().sum()}\")"
      ],
      "metadata": {
        "colab": {
          "base_uri": "https://localhost:8080/"
        },
        "id": "5GABDGtfUPru",
        "outputId": "f2cb1b2e-a618-4807-ae68-4c313527ba06"
      },
      "execution_count": null,
      "outputs": [
        {
          "output_type": "stream",
          "name": "stdout",
          "text": [
            "fixed acidity: --- 0\n",
            "volatile acidity: --- 0\n",
            "citric acid: --- 0\n",
            "residual sugar: --- 0\n",
            "chlorides: --- 0\n",
            "free sulfur dioxide: --- 0\n",
            "total sulfur dioxide: --- 0\n",
            "density: --- 0\n",
            "pH: --- 0\n",
            "sulphates: --- 0\n",
            "alcohol: --- 0\n",
            "quality: --- 0\n"
          ]
        }
      ]
    },
    {
      "cell_type": "code",
      "source": [
        "#df = data.insert(0, 'Ones', 1)\n",
        "data.head()\n",
        "data = (data - data.mean()) / data.std()\n",
        "data"
      ],
      "metadata": {
        "colab": {
          "base_uri": "https://localhost:8080/",
          "height": 522
        },
        "id": "JdbIHB_HX3Vs",
        "outputId": "59fcb230-2f90-4372-9bd3-50f653ad2573"
      },
      "execution_count": null,
      "outputs": [
        {
          "output_type": "execute_result",
          "data": {
            "text/plain": [
              "      fixed acidity  volatile acidity  citric acid  residual sugar  chlorides  \\\n",
              "0         -0.528194          0.961576    -1.391037       -0.453077  -0.243630   \n",
              "1         -0.298454          1.966827    -1.391037        0.043403   0.223805   \n",
              "2         -0.298454          1.296660    -1.185699       -0.169374   0.096323   \n",
              "3          1.654339         -1.384011     1.483689       -0.453077  -0.264878   \n",
              "4         -0.528194          0.961576    -1.391037       -0.453077  -0.243630   \n",
              "...             ...               ...          ...             ...        ...   \n",
              "1594      -1.217415          0.403103    -0.980362       -0.382151   0.053829   \n",
              "1595      -1.389721          0.123866    -0.877693       -0.240300  -0.541090   \n",
              "1596      -1.159980         -0.099523    -0.723690       -0.169374  -0.243630   \n",
              "1597      -1.389721          0.654416    -0.775024       -0.382151  -0.264878   \n",
              "1598      -1.332285         -1.216469     1.021680        0.752659  -0.434854   \n",
              "\n",
              "      free sulfur dioxide  total sulfur dioxide   density        pH  \\\n",
              "0               -0.466047             -0.379014  0.558100  1.288240   \n",
              "1                0.872365              0.624168  0.028252 -0.719708   \n",
              "2               -0.083643              0.228975  0.134222 -0.331073   \n",
              "3                0.107558              0.411372  0.664069 -0.978798   \n",
              "4               -0.466047             -0.379014  0.558100  1.288240   \n",
              "...                   ...                   ...       ...       ...   \n",
              "1594             1.541571             -0.075020 -0.978459  0.899605   \n",
              "1595             2.210777              0.137777 -0.861893  1.353012   \n",
              "1596             1.254769             -0.196617 -0.533387  0.705287   \n",
              "1597             1.541571             -0.075020 -0.676446  1.676875   \n",
              "1598             0.203159             -0.135818 -0.665849  0.510970   \n",
              "\n",
              "      sulphates   alcohol   quality  \n",
              "0     -0.579025 -0.959946 -0.787576  \n",
              "1      0.128910 -0.584594 -0.787576  \n",
              "2     -0.048074 -0.584594 -0.787576  \n",
              "3     -0.461036 -0.584594  0.450707  \n",
              "4     -0.579025 -0.959946 -0.787576  \n",
              "...         ...       ...       ...  \n",
              "1594  -0.461036  0.072271 -0.787576  \n",
              "1595   0.600867  0.729136  0.450707  \n",
              "1596   0.541872  0.541460  0.450707  \n",
              "1597   0.305894 -0.209243 -0.787576  \n",
              "1598   0.010921  0.541460  0.450707  \n",
              "\n",
              "[1599 rows x 12 columns]"
            ],
            "text/html": [
              "\n",
              "  <div id=\"df-9dd2d07f-ba2e-4dd3-849d-c292a6f1cb95\">\n",
              "    <div class=\"colab-df-container\">\n",
              "      <div>\n",
              "<style scoped>\n",
              "    .dataframe tbody tr th:only-of-type {\n",
              "        vertical-align: middle;\n",
              "    }\n",
              "\n",
              "    .dataframe tbody tr th {\n",
              "        vertical-align: top;\n",
              "    }\n",
              "\n",
              "    .dataframe thead th {\n",
              "        text-align: right;\n",
              "    }\n",
              "</style>\n",
              "<table border=\"1\" class=\"dataframe\">\n",
              "  <thead>\n",
              "    <tr style=\"text-align: right;\">\n",
              "      <th></th>\n",
              "      <th>fixed acidity</th>\n",
              "      <th>volatile acidity</th>\n",
              "      <th>citric acid</th>\n",
              "      <th>residual sugar</th>\n",
              "      <th>chlorides</th>\n",
              "      <th>free sulfur dioxide</th>\n",
              "      <th>total sulfur dioxide</th>\n",
              "      <th>density</th>\n",
              "      <th>pH</th>\n",
              "      <th>sulphates</th>\n",
              "      <th>alcohol</th>\n",
              "      <th>quality</th>\n",
              "    </tr>\n",
              "  </thead>\n",
              "  <tbody>\n",
              "    <tr>\n",
              "      <th>0</th>\n",
              "      <td>-0.528194</td>\n",
              "      <td>0.961576</td>\n",
              "      <td>-1.391037</td>\n",
              "      <td>-0.453077</td>\n",
              "      <td>-0.243630</td>\n",
              "      <td>-0.466047</td>\n",
              "      <td>-0.379014</td>\n",
              "      <td>0.558100</td>\n",
              "      <td>1.288240</td>\n",
              "      <td>-0.579025</td>\n",
              "      <td>-0.959946</td>\n",
              "      <td>-0.787576</td>\n",
              "    </tr>\n",
              "    <tr>\n",
              "      <th>1</th>\n",
              "      <td>-0.298454</td>\n",
              "      <td>1.966827</td>\n",
              "      <td>-1.391037</td>\n",
              "      <td>0.043403</td>\n",
              "      <td>0.223805</td>\n",
              "      <td>0.872365</td>\n",
              "      <td>0.624168</td>\n",
              "      <td>0.028252</td>\n",
              "      <td>-0.719708</td>\n",
              "      <td>0.128910</td>\n",
              "      <td>-0.584594</td>\n",
              "      <td>-0.787576</td>\n",
              "    </tr>\n",
              "    <tr>\n",
              "      <th>2</th>\n",
              "      <td>-0.298454</td>\n",
              "      <td>1.296660</td>\n",
              "      <td>-1.185699</td>\n",
              "      <td>-0.169374</td>\n",
              "      <td>0.096323</td>\n",
              "      <td>-0.083643</td>\n",
              "      <td>0.228975</td>\n",
              "      <td>0.134222</td>\n",
              "      <td>-0.331073</td>\n",
              "      <td>-0.048074</td>\n",
              "      <td>-0.584594</td>\n",
              "      <td>-0.787576</td>\n",
              "    </tr>\n",
              "    <tr>\n",
              "      <th>3</th>\n",
              "      <td>1.654339</td>\n",
              "      <td>-1.384011</td>\n",
              "      <td>1.483689</td>\n",
              "      <td>-0.453077</td>\n",
              "      <td>-0.264878</td>\n",
              "      <td>0.107558</td>\n",
              "      <td>0.411372</td>\n",
              "      <td>0.664069</td>\n",
              "      <td>-0.978798</td>\n",
              "      <td>-0.461036</td>\n",
              "      <td>-0.584594</td>\n",
              "      <td>0.450707</td>\n",
              "    </tr>\n",
              "    <tr>\n",
              "      <th>4</th>\n",
              "      <td>-0.528194</td>\n",
              "      <td>0.961576</td>\n",
              "      <td>-1.391037</td>\n",
              "      <td>-0.453077</td>\n",
              "      <td>-0.243630</td>\n",
              "      <td>-0.466047</td>\n",
              "      <td>-0.379014</td>\n",
              "      <td>0.558100</td>\n",
              "      <td>1.288240</td>\n",
              "      <td>-0.579025</td>\n",
              "      <td>-0.959946</td>\n",
              "      <td>-0.787576</td>\n",
              "    </tr>\n",
              "    <tr>\n",
              "      <th>...</th>\n",
              "      <td>...</td>\n",
              "      <td>...</td>\n",
              "      <td>...</td>\n",
              "      <td>...</td>\n",
              "      <td>...</td>\n",
              "      <td>...</td>\n",
              "      <td>...</td>\n",
              "      <td>...</td>\n",
              "      <td>...</td>\n",
              "      <td>...</td>\n",
              "      <td>...</td>\n",
              "      <td>...</td>\n",
              "    </tr>\n",
              "    <tr>\n",
              "      <th>1594</th>\n",
              "      <td>-1.217415</td>\n",
              "      <td>0.403103</td>\n",
              "      <td>-0.980362</td>\n",
              "      <td>-0.382151</td>\n",
              "      <td>0.053829</td>\n",
              "      <td>1.541571</td>\n",
              "      <td>-0.075020</td>\n",
              "      <td>-0.978459</td>\n",
              "      <td>0.899605</td>\n",
              "      <td>-0.461036</td>\n",
              "      <td>0.072271</td>\n",
              "      <td>-0.787576</td>\n",
              "    </tr>\n",
              "    <tr>\n",
              "      <th>1595</th>\n",
              "      <td>-1.389721</td>\n",
              "      <td>0.123866</td>\n",
              "      <td>-0.877693</td>\n",
              "      <td>-0.240300</td>\n",
              "      <td>-0.541090</td>\n",
              "      <td>2.210777</td>\n",
              "      <td>0.137777</td>\n",
              "      <td>-0.861893</td>\n",
              "      <td>1.353012</td>\n",
              "      <td>0.600867</td>\n",
              "      <td>0.729136</td>\n",
              "      <td>0.450707</td>\n",
              "    </tr>\n",
              "    <tr>\n",
              "      <th>1596</th>\n",
              "      <td>-1.159980</td>\n",
              "      <td>-0.099523</td>\n",
              "      <td>-0.723690</td>\n",
              "      <td>-0.169374</td>\n",
              "      <td>-0.243630</td>\n",
              "      <td>1.254769</td>\n",
              "      <td>-0.196617</td>\n",
              "      <td>-0.533387</td>\n",
              "      <td>0.705287</td>\n",
              "      <td>0.541872</td>\n",
              "      <td>0.541460</td>\n",
              "      <td>0.450707</td>\n",
              "    </tr>\n",
              "    <tr>\n",
              "      <th>1597</th>\n",
              "      <td>-1.389721</td>\n",
              "      <td>0.654416</td>\n",
              "      <td>-0.775024</td>\n",
              "      <td>-0.382151</td>\n",
              "      <td>-0.264878</td>\n",
              "      <td>1.541571</td>\n",
              "      <td>-0.075020</td>\n",
              "      <td>-0.676446</td>\n",
              "      <td>1.676875</td>\n",
              "      <td>0.305894</td>\n",
              "      <td>-0.209243</td>\n",
              "      <td>-0.787576</td>\n",
              "    </tr>\n",
              "    <tr>\n",
              "      <th>1598</th>\n",
              "      <td>-1.332285</td>\n",
              "      <td>-1.216469</td>\n",
              "      <td>1.021680</td>\n",
              "      <td>0.752659</td>\n",
              "      <td>-0.434854</td>\n",
              "      <td>0.203159</td>\n",
              "      <td>-0.135818</td>\n",
              "      <td>-0.665849</td>\n",
              "      <td>0.510970</td>\n",
              "      <td>0.010921</td>\n",
              "      <td>0.541460</td>\n",
              "      <td>0.450707</td>\n",
              "    </tr>\n",
              "  </tbody>\n",
              "</table>\n",
              "<p>1599 rows × 12 columns</p>\n",
              "</div>\n",
              "      <button class=\"colab-df-convert\" onclick=\"convertToInteractive('df-9dd2d07f-ba2e-4dd3-849d-c292a6f1cb95')\"\n",
              "              title=\"Convert this dataframe to an interactive table.\"\n",
              "              style=\"display:none;\">\n",
              "        \n",
              "  <svg xmlns=\"http://www.w3.org/2000/svg\" height=\"24px\"viewBox=\"0 0 24 24\"\n",
              "       width=\"24px\">\n",
              "    <path d=\"M0 0h24v24H0V0z\" fill=\"none\"/>\n",
              "    <path d=\"M18.56 5.44l.94 2.06.94-2.06 2.06-.94-2.06-.94-.94-2.06-.94 2.06-2.06.94zm-11 1L8.5 8.5l.94-2.06 2.06-.94-2.06-.94L8.5 2.5l-.94 2.06-2.06.94zm10 10l.94 2.06.94-2.06 2.06-.94-2.06-.94-.94-2.06-.94 2.06-2.06.94z\"/><path d=\"M17.41 7.96l-1.37-1.37c-.4-.4-.92-.59-1.43-.59-.52 0-1.04.2-1.43.59L10.3 9.45l-7.72 7.72c-.78.78-.78 2.05 0 2.83L4 21.41c.39.39.9.59 1.41.59.51 0 1.02-.2 1.41-.59l7.78-7.78 2.81-2.81c.8-.78.8-2.07 0-2.86zM5.41 20L4 18.59l7.72-7.72 1.47 1.35L5.41 20z\"/>\n",
              "  </svg>\n",
              "      </button>\n",
              "      \n",
              "  <style>\n",
              "    .colab-df-container {\n",
              "      display:flex;\n",
              "      flex-wrap:wrap;\n",
              "      gap: 12px;\n",
              "    }\n",
              "\n",
              "    .colab-df-convert {\n",
              "      background-color: #E8F0FE;\n",
              "      border: none;\n",
              "      border-radius: 50%;\n",
              "      cursor: pointer;\n",
              "      display: none;\n",
              "      fill: #1967D2;\n",
              "      height: 32px;\n",
              "      padding: 0 0 0 0;\n",
              "      width: 32px;\n",
              "    }\n",
              "\n",
              "    .colab-df-convert:hover {\n",
              "      background-color: #E2EBFA;\n",
              "      box-shadow: 0px 1px 2px rgba(60, 64, 67, 0.3), 0px 1px 3px 1px rgba(60, 64, 67, 0.15);\n",
              "      fill: #174EA6;\n",
              "    }\n",
              "\n",
              "    [theme=dark] .colab-df-convert {\n",
              "      background-color: #3B4455;\n",
              "      fill: #D2E3FC;\n",
              "    }\n",
              "\n",
              "    [theme=dark] .colab-df-convert:hover {\n",
              "      background-color: #434B5C;\n",
              "      box-shadow: 0px 1px 3px 1px rgba(0, 0, 0, 0.15);\n",
              "      filter: drop-shadow(0px 1px 2px rgba(0, 0, 0, 0.3));\n",
              "      fill: #FFFFFF;\n",
              "    }\n",
              "  </style>\n",
              "\n",
              "      <script>\n",
              "        const buttonEl =\n",
              "          document.querySelector('#df-9dd2d07f-ba2e-4dd3-849d-c292a6f1cb95 button.colab-df-convert');\n",
              "        buttonEl.style.display =\n",
              "          google.colab.kernel.accessAllowed ? 'block' : 'none';\n",
              "\n",
              "        async function convertToInteractive(key) {\n",
              "          const element = document.querySelector('#df-9dd2d07f-ba2e-4dd3-849d-c292a6f1cb95');\n",
              "          const dataTable =\n",
              "            await google.colab.kernel.invokeFunction('convertToInteractive',\n",
              "                                                     [key], {});\n",
              "          if (!dataTable) return;\n",
              "\n",
              "          const docLinkHtml = 'Like what you see? Visit the ' +\n",
              "            '<a target=\"_blank\" href=https://colab.research.google.com/notebooks/data_table.ipynb>data table notebook</a>'\n",
              "            + ' to learn more about interactive tables.';\n",
              "          element.innerHTML = '';\n",
              "          dataTable['output_type'] = 'display_data';\n",
              "          await google.colab.output.renderOutput(dataTable, element);\n",
              "          const docLink = document.createElement('div');\n",
              "          docLink.innerHTML = docLinkHtml;\n",
              "          element.appendChild(docLink);\n",
              "        }\n",
              "      </script>\n",
              "    </div>\n",
              "  </div>\n",
              "  "
            ]
          },
          "metadata": {},
          "execution_count": 19
        }
      ]
    },
    {
      "cell_type": "code",
      "source": [
        "from sklearn.preprocessing import StandardScaler\n",
        "scaler = StandardScaler()\n",
        "df = scaler.fit_transform(df)\n",
        "df"
      ],
      "metadata": {
        "colab": {
          "base_uri": "https://localhost:8080/"
        },
        "id": "MOlwE8ZwUaGE",
        "outputId": "796ccad8-97c1-4eb3-c65f-83ca06095ba0"
      },
      "execution_count": null,
      "outputs": [
        {
          "output_type": "execute_result",
          "data": {
            "text/plain": [
              "array([[-0.52835961,  0.96187667, -1.39147228, ..., -0.57920652,\n",
              "        -0.96024611, -0.78782264],\n",
              "       [-0.29854743,  1.96744245, -1.39147228, ...,  0.1289504 ,\n",
              "        -0.58477711, -0.78782264],\n",
              "       [-0.29854743,  1.29706527, -1.18607043, ..., -0.04808883,\n",
              "        -0.58477711, -0.78782264],\n",
              "       ...,\n",
              "       [-1.1603431 , -0.09955388, -0.72391627, ...,  0.54204194,\n",
              "         0.54162988,  0.45084835],\n",
              "       [-1.39015528,  0.65462046, -0.77526673, ...,  0.30598963,\n",
              "        -0.20930812, -0.78782264],\n",
              "       [-1.33270223, -1.21684919,  1.02199944, ...,  0.01092425,\n",
              "         0.54162988,  0.45084835]])"
            ]
          },
          "metadata": {},
          "execution_count": 21
        }
      ]
    },
    {
      "cell_type": "code",
      "source": [
        "X = data.iloc[:, :-1].values\n",
        "Y = data.iloc[:, -1].values\n",
        "Y"
      ],
      "metadata": {
        "id": "HW_yskRjUrn7",
        "colab": {
          "base_uri": "https://localhost:8080/"
        },
        "outputId": "c1612443-16be-4ed7-a31a-ba7ba9b83d7e"
      },
      "execution_count": null,
      "outputs": [
        {
          "output_type": "execute_result",
          "data": {
            "text/plain": [
              "array([-0.78757625, -0.78757625, -0.78757625, ...,  0.45070735,\n",
              "       -0.78757625,  0.45070735])"
            ]
          },
          "metadata": {},
          "execution_count": 28
        }
      ]
    },
    {
      "cell_type": "code",
      "source": [
        "x = df[:, :-1]\n",
        "y = df[:, -1]\n",
        "y"
      ],
      "metadata": {
        "colab": {
          "base_uri": "https://localhost:8080/"
        },
        "id": "bASbZ4-CVHVw",
        "outputId": "0c5e64ea-0517-448d-b49b-176ce08f9cc1"
      },
      "execution_count": null,
      "outputs": [
        {
          "output_type": "execute_result",
          "data": {
            "text/plain": [
              "array([-0.78782264, -0.78782264, -0.78782264, ...,  0.45084835,\n",
              "       -0.78782264,  0.45084835])"
            ]
          },
          "metadata": {},
          "execution_count": 27
        }
      ]
    },
    {
      "cell_type": "code",
      "source": [
        "from sklearn.model_selection import train_test_split\n",
        "X_train, X_test, y_train, y_test = train_test_split(x, y, test_size=.3, random_state = 42)"
      ],
      "metadata": {
        "id": "EyNOqiINVJW0"
      },
      "execution_count": null,
      "outputs": []
    },
    {
      "cell_type": "code",
      "source": [
        "from sklearn.linear_model import LinearRegression, Ridge, Lasso, ElasticNet\n",
        "from sklearn.metrics import mean_squared_error, r2_score\n",
        "from sklearn.preprocessing import PolynomialFeatures\n",
        "from sklearn.pipeline import make_pipeline"
      ],
      "metadata": {
        "id": "a9rKjRuCVsmc"
      },
      "execution_count": null,
      "outputs": []
    },
    {
      "cell_type": "code",
      "source": [
        "reg = LinearRegression()\n",
        "reg.fit(X_train, y_train)\n",
        "y_pred = reg.predict(X_test)\n",
        "mse = mean_squared_error(y_pred, y_test)\n",
        "r2 = r2_score(y_test, y_pred)\n",
        "rmse = np.sqrt(mse)\n",
        "print(f\"Linear Model - MSE: {mse}, RMSE: {rmse}, R^2: {r2}\")"
      ],
      "metadata": {
        "colab": {
          "base_uri": "https://localhost:8080/"
        },
        "id": "U6_qjWHyWsok",
        "outputId": "80f2b674-dada-4e6c-aa94-db7416e36db0"
      },
      "execution_count": null,
      "outputs": [
        {
          "output_type": "stream",
          "name": "stdout",
          "text": [
            "Linear Model - MSE: 0.6309600637331627, RMSE: 0.7943299463907695, R^2: 0.3513885332505242\n"
          ]
        }
      ]
    },
    {
      "cell_type": "code",
      "source": [
        "models = {'LinearRegression': LinearRegression(),\n",
        "          'Ridge': Ridge(),\n",
        "          'Lasso': Lasso(),\n",
        "          'ElasticNet': ElasticNet(),\n",
        "         'Poly': make_pipeline(PolynomialFeatures(1), LinearRegression())}\n",
        "for name, model in models.items():\n",
        "    model.fit(X_train, y_train)\n",
        "    y_pred = model.predict(X_test)\n",
        "    mse = mean_squared_error(y_test, y_pred)\n",
        "    rmse = np.sqrt(mse)\n",
        "    r2 = r2_score(y_test, y_pred)\n",
        "    print(f\"{name} - MSE: {mse}, RMSE: {rmse}, R^2: {r2}, Accuracy: {model.score(X_train, y_train) * 100}\")"
      ],
      "metadata": {
        "colab": {
          "base_uri": "https://localhost:8080/"
        },
        "id": "tCwf4VgwWhtx",
        "outputId": "41244acf-6ffc-4ee0-e370-e8ff1941d6b7"
      },
      "execution_count": null,
      "outputs": [
        {
          "output_type": "stream",
          "name": "stdout",
          "text": [
            "LinearRegression - MSE: 0.6309600637331627, RMSE: 0.7943299463907695, R^2: 0.3513885332505242, Accuracy: 36.11982441321319\n",
            "Ridge - MSE: 0.6309409588309859, RMSE: 0.7943179205022293, R^2: 0.35140817262127877, Accuracy: 36.119787021524886\n",
            "Lasso - MSE: 0.976141489703161, RMSE: 0.9879987296060461, R^2: -0.0034495046252931427, Accuracy: 0.0\n",
            "ElasticNet - MSE: 0.976141489703161, RMSE: 0.9879987296060461, R^2: -0.0034495046252931427, Accuracy: 0.0\n",
            "Poly - MSE: 0.6309600637331627, RMSE: 0.7943299463907695, R^2: 0.3513885332505242, Accuracy: 36.11982441321319\n"
          ]
        }
      ]
    },
    {
      "cell_type": "code",
      "source": [
        "def backwardElimination(x, sl):\n",
        "    numVars = len(x[0])\n",
        "    deleted = []\n",
        "    for i in range(0, numVars):\n",
        "        regressor_OLS = sm.OLS(y_train, x).fit()\n",
        "        maxVar = max(regressor_OLS.pvalues).astype(float)\n",
        "        if maxVar > sl:\n",
        "            for j in range(0, numVars - i):\n",
        "                if (regressor_OLS.pvalues[j].astype(float) == maxVar):\n",
        "                    x = np.delete(x, j, 1)\n",
        "                    deleted.append(j)\n",
        "    print(regressor_OLS.summary())\n",
        "    return x, regressor_OLS.params, deleted"
      ],
      "metadata": {
        "id": "CRmAi7FqXbwB"
      },
      "execution_count": null,
      "outputs": []
    },
    {
      "cell_type": "code",
      "source": [
        "SL = 0.05\n",
        "X_opt = X_train\n",
        "X_opt"
      ],
      "metadata": {
        "colab": {
          "base_uri": "https://localhost:8080/"
        },
        "id": "PlV_UNJ5XhI8",
        "outputId": "507a5711-bc84-4600-f7fe-9c9f745c0c18"
      },
      "execution_count": null,
      "outputs": [
        {
          "output_type": "execute_result",
          "data": {
            "text/plain": [
              "array([[ 0.16107692, -1.71963208,  0.45714436, ...,  1.02947179,\n",
              "         1.25019886,  0.54162988],\n",
              "       [ 2.40174566, -0.37887771,  1.84360683, ..., -2.0805817 ,\n",
              "         1.25019886, -0.20930812],\n",
              "       [-0.6432657 ,  0.06804042, -0.0050098 , ...,  0.51112954,\n",
              "         0.30598963,  0.54162988],\n",
              "       ...,\n",
              "       [-0.6432657 ,  0.51495855, -1.08336951, ...,  1.28864292,\n",
              "        -0.69723268, -0.86637886],\n",
              "       [-0.24109439, -1.83136161,  0.4057939 , ...,  0.05758008,\n",
              "         0.83710732,  1.38643512],\n",
              "       [-1.44760832, -1.32857872, -0.05636026, ...,  0.51112954,\n",
              "        -0.69723268,  2.8883111 ]])"
            ]
          },
          "metadata": {},
          "execution_count": 34
        }
      ]
    },
    {
      "cell_type": "code",
      "source": [
        "X_modeled, beta, to_delete = backwardElimination(X_train, SL)"
      ],
      "metadata": {
        "colab": {
          "base_uri": "https://localhost:8080/"
        },
        "id": "Q5g-rinhYQ4f",
        "outputId": "1f869bf0-1f63-4583-8a4a-6c58c95b40e1"
      },
      "execution_count": null,
      "outputs": [
        {
          "output_type": "stream",
          "name": "stdout",
          "text": [
            "                                 OLS Regression Results                                \n",
            "=======================================================================================\n",
            "Dep. Variable:                      y   R-squared (uncentered):                   0.360\n",
            "Model:                            OLS   Adj. R-squared (uncentered):              0.356\n",
            "Method:                 Least Squares   F-statistic:                              89.35\n",
            "Date:                Sat, 25 Mar 2023   Prob (F-statistic):                   3.01e-103\n",
            "Time:                        01:15:45   Log-Likelihood:                         -1344.2\n",
            "No. Observations:                1119   AIC:                                      2702.\n",
            "Df Residuals:                    1112   BIC:                                      2738.\n",
            "Df Model:                           7                                                  \n",
            "Covariance Type:            nonrobust                                                  \n",
            "==============================================================================\n",
            "                 coef    std err          t      P>|t|      [0.025      0.975]\n",
            "------------------------------------------------------------------------------\n",
            "x1            -0.2206      0.026     -8.339      0.000      -0.272      -0.169\n",
            "x2            -0.1096      0.028     -3.965      0.000      -0.164      -0.055\n",
            "x3             0.0699      0.034      2.078      0.038       0.004       0.136\n",
            "x4            -0.1478      0.034     -4.401      0.000      -0.214      -0.082\n",
            "x5            -0.0664      0.027     -2.471      0.014      -0.119      -0.014\n",
            "x6             0.1652      0.027      6.049      0.000       0.112       0.219\n",
            "x7             0.3941      0.027     14.678      0.000       0.341       0.447\n",
            "==============================================================================\n",
            "Omnibus:                       27.854   Durbin-Watson:                   1.998\n",
            "Prob(Omnibus):                  0.000   Jarque-Bera (JB):               47.307\n",
            "Skew:                          -0.189   Prob(JB):                     5.34e-11\n",
            "Kurtosis:                       3.934   Cond. No.                         2.45\n",
            "==============================================================================\n",
            "\n",
            "Notes:\n",
            "[1] R² is computed without centering (uncentered) since the model does not contain a constant.\n",
            "[2] Standard Errors assume that the covariance matrix of the errors is correctly specified.\n"
          ]
        }
      ]
    },
    {
      "cell_type": "code",
      "source": [
        "y_pred = X_modeled.dot(beta.T)\n",
        "\n",
        "print((.5 / len(X_modeled)) * (((y_pred - y_train) ** 2).sum()))\n",
        "computeCost(X_modeled, y_train, beta)"
      ],
      "metadata": {
        "colab": {
          "base_uri": "https://localhost:8080/"
        },
        "id": "WXzMNK7GZVrl",
        "outputId": "685a8be0-16c8-4ebc-861b-b3744ebe9822"
      },
      "execution_count": null,
      "outputs": [
        {
          "output_type": "stream",
          "name": "stdout",
          "text": [
            "0.3235151032235232\n"
          ]
        },
        {
          "output_type": "execute_result",
          "data": {
            "text/plain": [
              "0.3235151032235232"
            ]
          },
          "metadata": {},
          "execution_count": 46
        }
      ]
    },
    {
      "cell_type": "code",
      "source": [
        "def computeCost(X, y, theta):\n",
        "    return np.sum(np.power((model(X, theta) - y), 2)) * (.5 / len(X))"
      ],
      "metadata": {
        "id": "ODI_IiZkcics"
      },
      "execution_count": null,
      "outputs": []
    },
    {
      "cell_type": "code",
      "source": [
        "def model(X, theta):\n",
        "  return X.dot(theta)"
      ],
      "metadata": {
        "id": "vDW8J00JdPOJ"
      },
      "execution_count": null,
      "outputs": []
    },
    {
      "cell_type": "code",
      "source": [
        "def grad(X, y, theta):\n",
        "  return (1 / len(y)) * X.T.dot(model(X, theta) - y)"
      ],
      "metadata": {
        "id": "VpGA86fukw4V"
      },
      "execution_count": null,
      "outputs": []
    },
    {
      "cell_type": "code",
      "source": [
        "def gradientDescent(X, y, theta, alpha, iters):\n",
        "    cost = np.zeros(iters)\n",
        "    for i in range(0, iters):\n",
        "      theta = theta - alpha * grad(X, y, theta)\n",
        "      cost[i] = computeCost(X, y, theta)\n",
        "    return theta, cost"
      ],
      "metadata": {
        "id": "zJWyWTj7cs40"
      },
      "execution_count": null,
      "outputs": []
    },
    {
      "cell_type": "code",
      "source": [
        "alpha = 0.01\n",
        "iters = 100\n",
        "theta = np.matrix(np.zeros((X_train.shape[1], 1)))\n",
        "theta.shape"
      ],
      "metadata": {
        "colab": {
          "base_uri": "https://localhost:8080/"
        },
        "id": "8klwXIzKcvZG",
        "outputId": "7d4460c1-1f71-453b-e937-a9365c98e93e"
      },
      "execution_count": null,
      "outputs": [
        {
          "output_type": "execute_result",
          "data": {
            "text/plain": [
              "(11, 1)"
            ]
          },
          "metadata": {},
          "execution_count": 42
        }
      ]
    },
    {
      "cell_type": "code",
      "source": [
        "g, cost = gradientDescent(X_train, y_train, theta, alpha, iters)\n",
        "print('g = ' , g)\n",
        "print('cost = ' , cost[-1] )\n",
        "print('computeCost = ' , computeCost(X_train, y_train, g))"
      ],
      "metadata": {
        "colab": {
          "base_uri": "https://localhost:8080/"
        },
        "id": "RYvqdbKbdFqL",
        "outputId": "3950a8f1-02df-4912-ae63-e7ae03712e24"
      },
      "execution_count": null,
      "outputs": [
        {
          "output_type": "stream",
          "name": "stdout",
          "text": [
            "g =  [[-2.74804991e-03  1.28141529e-03  1.28141529e-03 ...  1.28141529e-03\n",
            "  -2.74804991e-03 -7.33317307e-04]\n",
            " [ 2.93297752e-02 -1.36764702e-02 -1.36764702e-02 ... -1.36764702e-02\n",
            "   2.93297752e-02  7.82665254e-03]\n",
            " [ 4.17773161e-03 -1.94807567e-03 -1.94807567e-03 ... -1.94807567e-03\n",
            "   4.17773161e-03  1.11482797e-03]\n",
            " ...\n",
            " [ 2.30006180e-02 -1.07251850e-02 -1.07251850e-02 ... -1.07251850e-02\n",
            "   2.30006180e-02  6.13771649e-03]\n",
            " [ 7.48836338e-03 -3.49182282e-03 -3.49182282e-03 ... -3.49182282e-03\n",
            "   7.48836338e-03  1.99827028e-03]\n",
            " [-3.97425680e-05  1.85319540e-05  1.85319540e-05 ...  1.85319540e-05\n",
            "  -3.97425680e-05 -1.06053070e-05]]\n",
            "cost =  564.7270218354698\n",
            "computeCost =  564.7270218354698\n"
          ]
        }
      ]
    },
    {
      "cell_type": "code",
      "source": [
        "pred = model(X_test, theta)"
      ],
      "metadata": {
        "id": "JNAxtODBe5Mk"
      },
      "execution_count": null,
      "outputs": []
    },
    {
      "cell_type": "code",
      "source": [
        "computeCost(X_test, y_test, theta)"
      ],
      "metadata": {
        "colab": {
          "base_uri": "https://localhost:8080/"
        },
        "id": "PMa0FyGDdndh",
        "outputId": "b23de72b-4784-47bb-e2a5-64e668235acb"
      },
      "execution_count": null,
      "outputs": [
        {
          "output_type": "execute_result",
          "data": {
            "text/plain": [
              "233.86301699089435"
            ]
          },
          "metadata": {},
          "execution_count": 45
        }
      ]
    },
    {
      "cell_type": "code",
      "source": [
        "from sklearn import svm\n",
        "regressor = svm.SVR()\n",
        "regressor.fit(X_train, y_train)"
      ],
      "metadata": {
        "colab": {
          "base_uri": "https://localhost:8080/",
          "height": 75
        },
        "id": "kN_oTdUDVtWU",
        "outputId": "9873283e-f701-423f-d8fc-ca0d2ee09ef6"
      },
      "execution_count": null,
      "outputs": [
        {
          "output_type": "execute_result",
          "data": {
            "text/plain": [
              "SVR()"
            ],
            "text/html": [
              "<style>#sk-container-id-1 {color: black;background-color: white;}#sk-container-id-1 pre{padding: 0;}#sk-container-id-1 div.sk-toggleable {background-color: white;}#sk-container-id-1 label.sk-toggleable__label {cursor: pointer;display: block;width: 100%;margin-bottom: 0;padding: 0.3em;box-sizing: border-box;text-align: center;}#sk-container-id-1 label.sk-toggleable__label-arrow:before {content: \"▸\";float: left;margin-right: 0.25em;color: #696969;}#sk-container-id-1 label.sk-toggleable__label-arrow:hover:before {color: black;}#sk-container-id-1 div.sk-estimator:hover label.sk-toggleable__label-arrow:before {color: black;}#sk-container-id-1 div.sk-toggleable__content {max-height: 0;max-width: 0;overflow: hidden;text-align: left;background-color: #f0f8ff;}#sk-container-id-1 div.sk-toggleable__content pre {margin: 0.2em;color: black;border-radius: 0.25em;background-color: #f0f8ff;}#sk-container-id-1 input.sk-toggleable__control:checked~div.sk-toggleable__content {max-height: 200px;max-width: 100%;overflow: auto;}#sk-container-id-1 input.sk-toggleable__control:checked~label.sk-toggleable__label-arrow:before {content: \"▾\";}#sk-container-id-1 div.sk-estimator input.sk-toggleable__control:checked~label.sk-toggleable__label {background-color: #d4ebff;}#sk-container-id-1 div.sk-label input.sk-toggleable__control:checked~label.sk-toggleable__label {background-color: #d4ebff;}#sk-container-id-1 input.sk-hidden--visually {border: 0;clip: rect(1px 1px 1px 1px);clip: rect(1px, 1px, 1px, 1px);height: 1px;margin: -1px;overflow: hidden;padding: 0;position: absolute;width: 1px;}#sk-container-id-1 div.sk-estimator {font-family: monospace;background-color: #f0f8ff;border: 1px dotted black;border-radius: 0.25em;box-sizing: border-box;margin-bottom: 0.5em;}#sk-container-id-1 div.sk-estimator:hover {background-color: #d4ebff;}#sk-container-id-1 div.sk-parallel-item::after {content: \"\";width: 100%;border-bottom: 1px solid gray;flex-grow: 1;}#sk-container-id-1 div.sk-label:hover label.sk-toggleable__label {background-color: #d4ebff;}#sk-container-id-1 div.sk-serial::before {content: \"\";position: absolute;border-left: 1px solid gray;box-sizing: border-box;top: 0;bottom: 0;left: 50%;z-index: 0;}#sk-container-id-1 div.sk-serial {display: flex;flex-direction: column;align-items: center;background-color: white;padding-right: 0.2em;padding-left: 0.2em;position: relative;}#sk-container-id-1 div.sk-item {position: relative;z-index: 1;}#sk-container-id-1 div.sk-parallel {display: flex;align-items: stretch;justify-content: center;background-color: white;position: relative;}#sk-container-id-1 div.sk-item::before, #sk-container-id-1 div.sk-parallel-item::before {content: \"\";position: absolute;border-left: 1px solid gray;box-sizing: border-box;top: 0;bottom: 0;left: 50%;z-index: -1;}#sk-container-id-1 div.sk-parallel-item {display: flex;flex-direction: column;z-index: 1;position: relative;background-color: white;}#sk-container-id-1 div.sk-parallel-item:first-child::after {align-self: flex-end;width: 50%;}#sk-container-id-1 div.sk-parallel-item:last-child::after {align-self: flex-start;width: 50%;}#sk-container-id-1 div.sk-parallel-item:only-child::after {width: 0;}#sk-container-id-1 div.sk-dashed-wrapped {border: 1px dashed gray;margin: 0 0.4em 0.5em 0.4em;box-sizing: border-box;padding-bottom: 0.4em;background-color: white;}#sk-container-id-1 div.sk-label label {font-family: monospace;font-weight: bold;display: inline-block;line-height: 1.2em;}#sk-container-id-1 div.sk-label-container {text-align: center;}#sk-container-id-1 div.sk-container {/* jupyter's `normalize.less` sets `[hidden] { display: none; }` but bootstrap.min.css set `[hidden] { display: none !important; }` so we also need the `!important` here to be able to override the default hidden behavior on the sphinx rendered scikit-learn.org. See: https://github.com/scikit-learn/scikit-learn/issues/21755 */display: inline-block !important;position: relative;}#sk-container-id-1 div.sk-text-repr-fallback {display: none;}</style><div id=\"sk-container-id-1\" class=\"sk-top-container\"><div class=\"sk-text-repr-fallback\"><pre>SVR()</pre><b>In a Jupyter environment, please rerun this cell to show the HTML representation or trust the notebook. <br />On GitHub, the HTML representation is unable to render, please try loading this page with nbviewer.org.</b></div><div class=\"sk-container\" hidden><div class=\"sk-item\"><div class=\"sk-estimator sk-toggleable\"><input class=\"sk-toggleable__control sk-hidden--visually\" id=\"sk-estimator-id-1\" type=\"checkbox\" checked><label for=\"sk-estimator-id-1\" class=\"sk-toggleable__label sk-toggleable__label-arrow\">SVR</label><div class=\"sk-toggleable__content\"><pre>SVR()</pre></div></div></div></div></div>"
            ]
          },
          "metadata": {},
          "execution_count": 47
        }
      ]
    },
    {
      "cell_type": "code",
      "source": [
        "y_pred = regressor.predict(X_test)"
      ],
      "metadata": {
        "id": "GLVIHrAOWFre"
      },
      "execution_count": null,
      "outputs": []
    },
    {
      "cell_type": "code",
      "source": [
        "from sklearn.model_selection import cross_val_score\n",
        "s=regressor.score(X_test, y_test)\n",
        "print(s)\n",
        "\n",
        "scores = cross_val_score(regressor ,X_test, y_test)\n",
        "\n",
        "print(\"Accuracy: %0.2f (+/- %0.2f)\" % (scores.mean(), scores.std() / 2))\n"
      ],
      "metadata": {
        "colab": {
          "base_uri": "https://localhost:8080/"
        },
        "id": "uPSleJZCWKgG",
        "outputId": "b63fe7de-f9e3-496b-b8a7-bf5653ff1698"
      },
      "execution_count": null,
      "outputs": [
        {
          "output_type": "stream",
          "name": "stdout",
          "text": [
            "0.40402712202108115\n",
            "Accuracy: 0.33 (+/- 0.04)\n"
          ]
        }
      ]
    },
    {
      "cell_type": "code",
      "source": [
        "import numpy as np\n",
        "import matplotlib.pyplot as plt\n",
        "\n",
        "# Example data\n",
        "features = np.array([[1, 2, 3, 4, 5],\n",
        "                     [2, 4, 6, 8, 10],\n",
        "                     [3, 6, 9, 12, 15]])\n",
        "output = np.array([2, 4, 6, 8, 10])\n",
        "\n",
        "num_features = features.shape[0]\n",
        "print(num_features)\n",
        "fig, axs = plt.subplots(num_features, 1, figsize=(6, 4 * num_features))\n",
        "\n",
        "for i in range(num_features):\n",
        "    axs[i].plot(features[i], output, 'o')\n",
        "    axs[i].set_xlabel('Feature {}'.format(i + 1))\n",
        "    axs[i].set_ylabel('Output')\n",
        "    axs[i].set_title('Feature {} vs Output'.format(i + 1))\n",
        "\n",
        "plt.tight_layout()\n",
        "plt.show()\n"
      ],
      "metadata": {
        "colab": {
          "base_uri": "https://localhost:8080/",
          "height": 1000
        },
        "id": "vjlcl_kG_PeU",
        "outputId": "24c6e9d8-fef8-42f3-ac2a-23ddc9970c35"
      },
      "execution_count": null,
      "outputs": [
        {
          "output_type": "stream",
          "name": "stdout",
          "text": [
            "3\n"
          ]
        },
        {
          "output_type": "display_data",
          "data": {
            "text/plain": [
              "<Figure size 600x1200 with 3 Axes>"
            ],
            "image/png": "[encoded data removed]"
          },
          "metadata": {}
        }
      ]
    }
  ]
}